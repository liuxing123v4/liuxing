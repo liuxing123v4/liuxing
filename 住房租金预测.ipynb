{
 "cells": [
  {
   "cell_type": "markdown",
   "metadata": {
    "id": "F5E14844F879424D9CA14F1DA3CE3B08",
    "mdEditEnable": false
   },
   "source": [
    "# **【python】数据科学竞赛——租房租金预测**\n",
    "### 【作者】        星少\n",
    "为贯彻习近平主席在十九大报告中关于“推动互联网、大数据、人工智能和实体经济深度融合”以及“善于运用互联网技术和信息化手段开展工作”等讲话精神，引导高校在校生学习掌握计算机与互联网知识，提高计算机的技能应用，中国软件行业协会培训中心将举办全国大学生计算机技能应用大赛。大赛旨在增强广大在校大学生的IT应用技能，对于进一步落实学校培养应用型人才的目标要求，培育创新创业人才、促进产学研相结合有着重要意义。\n",
    "\n",
    "当今社会，房屋租金由装修情况、位置地段、户型格局、交通便利程度、市场供需量等多方面因素综合决定，对于租房这个相对传统的行业来说，信息严重不对称一直存在。一方面，房东不了解租房的市场真实价格，只能忍痛空置高租金的房屋；另一方面，租客也找不到满足自己需求高性价比房屋，这造成了租房资源的极大浪费。\n",
    "\n",
    "本次计算机技能大赛中的大数据赛题将基于租房市场的痛点，提供脱敏处理后的真实租房市场数据。选手需要利用有月租金标签的历史数据建立模型，实现基于房屋基本信息的住房月租金预测，为该城市租房市场提供客观衡量标准。\n",
    "![Image Name](https://cdn.kesci.com/upload/image/pjwsoi2vnr.png?imageView2/0/w/960/h/960)\n",
    "\n"
   ]
  },
  {
   "cell_type": "code",
   "execution_count": 1,
   "metadata": {
    "id": "B7732B19CA714A5F9018A25298CA28B3",
    "scrolled": false
   },
   "outputs": [],
   "source": [
    "#导入包\n",
    "import numpy as np\n",
    "import pandas as pd "
   ]
  },
  {
   "cell_type": "markdown",
   "metadata": {
    "id": "7B3B70D022984D858F0F132BF6F18D02",
    "mdEditEnable": false
   },
   "source": [
    "## 数据读取"
   ]
  },
  {
   "cell_type": "markdown",
   "metadata": {
    "id": "1EB791B3FA4641E98C615E32AEFD3DDD",
    "mdEditEnable": false
   },
   "source": [
    "    \"- time 房屋信息采集的时间\\n\",\n",
    "    \"- apartment_name 房屋所在小区 脱敏处理\\n\",\n",
    "    \"- apartment_rent_num 小区房屋出租数量 保留大小关系\\n\",\n",
    "    \"- floor 楼层高中低 脱敏处理 \\n\",\n",
    "    \"- total_floor 房屋所在建筑的总楼层数 脱敏处理\\n\",\n",
    "    \"- house_area 房屋面积 脱敏处理 (*)\\n\",\n",
    "    \"- house_towards 房屋朝向\\n\",\n",
    "    \"- house_state 居住状态，出租或者居住中 脱敏处理 (*)\\n\",\n",
    "    \"- bedrooms 卧室数量 (*)\\n\",\n",
    "    \"- livingrooms 厅的数量 \\n\",\n",
    "    \"- bathrooms 卫的数量 \\n\",\n",
    "    \"- rent_method 出租方式，表示是否整租 (*)\\n\",\n",
    "    \"- district 房屋所在区级行政单位\\n\",\n",
    "    \"- bs_region 小区所在商圈位置 (*)\\n\",\n",
    "    \"- sub_route 地铁线路 (*)\\n\",\n",
    "    \"- sub_stop 临近的地铁站点 (*)\\n\",\n",
    "    \"- sub_distance 距临近地铁站的距离 (*)\\n\",\n",
    "    \"- decoration_state 房屋的装修档次\\n\",\n",
    "    \"- monthly_rent 月租金，标签值，脱敏处理\""
   ]
  },
  {
   "cell_type": "code",
   "execution_count": 2,
   "metadata": {
    "id": "33EFB1357BA3486A953CC193F29E3CE9",
    "scrolled": false
   },
   "outputs": [],
   "source": [
    "# 避免后期出现编码问题，把所有的列名改为英文\n",
    "columns = [\n",
    "    'time',\n",
    "    'apartment_name',\n",
    "    'apartment_rent_num',\n",
    "    'floor',\n",
    "    'total_floor',\n",
    "    'house_area',\n",
    "    'house_towards',\n",
    "    'house_state',\n",
    "    'bedrooms',\n",
    "    'livingrooms',\n",
    "    'bathrooms',\n",
    "    'rent_method',\n",
    "    'district',\n",
    "    'bs_region',\n",
    "    'sub_route',\n",
    "    'sub_stop',\n",
    "    'sub_distance',\n",
    "    'decoration_state',\n",
    "    'monthly_rent']\n",
    "columns_test = [\n",
    "    'id',\n",
    "    'time',\n",
    "    'apartment_name',\n",
    "    'apartment_rent_num',\n",
    "    'floor',\n",
    "    'total_floor',\n",
    "    'house_area',\n",
    "    'house_towards',\n",
    "    'house_state',\n",
    "    'bedrooms',\n",
    "    'livingrooms',\n",
    "    'bathrooms',\n",
    "    'rent_method',\n",
    "    'district',\n",
    "    'bs_region',\n",
    "    'sub_route',\n",
    "    'sub_stop',\n",
    "    'sub_distance',\n",
    "    'decoration_state']\n",
    "#用Pandas包的 read_csv（） 函数分别将文件movies.csv和ratings.csv读入至对应的 DataFrame变量中\n",
    "train = pd.read_csv(\n",
    "    '/home/kesci/input/ABC7410/train.csv',\n",
    "    header=0,\n",
    "    names=columns)\n",
    "test = pd.read_csv(\n",
    "    '/home/kesci/input/ABC7410/test.csv',\n",
    "    header=0,\n",
    "    names=columns_test)\n",
    "X_train = train\n",
    "X_test = test\n",
    "y_train = X_train.pop('monthly_rent')\n",
    "test_id = X_test.pop('id')"
   ]
  },
  {
   "cell_type": "markdown",
   "metadata": {
    "id": "CE805524E8344FA986B54669D6ED5696",
    "mdEditEnable": false
   },
   "source": [
    "* 基本数据探索"
   ]
  },
  {
   "cell_type": "code",
   "execution_count": 3,
   "metadata": {
    "id": "95AC78AC7F8147FB99644D564A9C1F32",
    "scrolled": false
   },
   "outputs": [
    {
     "name": "stdout",
     "output_type": "stream",
     "text": [
      "   time  apartment_name  apartment_rent_num  floor  total_floor  house_area  \\\n",
      "0     1            3072            0.128906      2     0.236364    0.008628   \n",
      "1     1            3152            0.132812      1     0.381818    0.017046   \n",
      "2     1            5575            0.042969      0     0.290909    0.010593   \n",
      "3     1            3103            0.085938      2     0.581818    0.019199   \n",
      "4     1            5182            0.214844      0     0.545455    0.010427   \n",
      "\n",
      "  house_towards  house_state  bedrooms  livingrooms  bathrooms  rent_method  \\\n",
      "0            东南          NaN         1            1          1          NaN   \n",
      "1             东          NaN         1            0          0          NaN   \n",
      "2            东南          NaN         2            1          2          NaN   \n",
      "3             南          NaN         3            2          2          NaN   \n",
      "4            东北          NaN         2            1          1          NaN   \n",
      "\n",
      "   district  bs_region  sub_route  sub_stop  sub_distance  decoration_state  \n",
      "0      11.0      118.0        2.0      40.0      0.764167               NaN  \n",
      "1      10.0      100.0        4.0      58.0      0.709167               NaN  \n",
      "2      12.0      130.0        5.0      37.0      0.572500               NaN  \n",
      "3       7.0       90.0        2.0      63.0      0.658333               NaN  \n",
      "4       3.0       31.0        NaN       NaN           NaN               NaN  \n"
     ]
    },
    {
     "data": {
      "text/html": [
       "<div>\n",
       "<style scoped>\n",
       "    .dataframe tbody tr th:only-of-type {\n",
       "        vertical-align: middle;\n",
       "    }\n",
       "\n",
       "    .dataframe tbody tr th {\n",
       "        vertical-align: top;\n",
       "    }\n",
       "\n",
       "    .dataframe thead th {\n",
       "        text-align: right;\n",
       "    }\n",
       "</style>\n",
       "<table border=\"1\" class=\"dataframe\">\n",
       "  <thead>\n",
       "    <tr style=\"text-align: right;\">\n",
       "      <th></th>\n",
       "      <th>time</th>\n",
       "      <th>apartment_name</th>\n",
       "      <th>apartment_rent_num</th>\n",
       "      <th>floor</th>\n",
       "      <th>total_floor</th>\n",
       "      <th>house_area</th>\n",
       "      <th>house_towards</th>\n",
       "      <th>house_state</th>\n",
       "      <th>bedrooms</th>\n",
       "      <th>livingrooms</th>\n",
       "      <th>bathrooms</th>\n",
       "      <th>rent_method</th>\n",
       "      <th>district</th>\n",
       "      <th>bs_region</th>\n",
       "      <th>sub_route</th>\n",
       "      <th>sub_stop</th>\n",
       "      <th>sub_distance</th>\n",
       "      <th>decoration_state</th>\n",
       "    </tr>\n",
       "  </thead>\n",
       "  <tbody>\n",
       "    <tr>\n",
       "      <th>0</th>\n",
       "      <td>4</td>\n",
       "      <td>6011</td>\n",
       "      <td>0.382812</td>\n",
       "      <td>1</td>\n",
       "      <td>0.600000</td>\n",
       "      <td>0.007117</td>\n",
       "      <td>东</td>\n",
       "      <td>3.0</td>\n",
       "      <td>2</td>\n",
       "      <td>1</td>\n",
       "      <td>1</td>\n",
       "      <td>1.0</td>\n",
       "      <td>10.0</td>\n",
       "      <td>5.0</td>\n",
       "      <td>NaN</td>\n",
       "      <td>NaN</td>\n",
       "      <td>NaN</td>\n",
       "      <td>6.0</td>\n",
       "    </tr>\n",
       "    <tr>\n",
       "      <th>1</th>\n",
       "      <td>4</td>\n",
       "      <td>1697</td>\n",
       "      <td>0.152344</td>\n",
       "      <td>1</td>\n",
       "      <td>0.472727</td>\n",
       "      <td>0.007448</td>\n",
       "      <td>东</td>\n",
       "      <td>NaN</td>\n",
       "      <td>2</td>\n",
       "      <td>1</td>\n",
       "      <td>1</td>\n",
       "      <td>NaN</td>\n",
       "      <td>3.0</td>\n",
       "      <td>0.0</td>\n",
       "      <td>NaN</td>\n",
       "      <td>NaN</td>\n",
       "      <td>NaN</td>\n",
       "      <td>NaN</td>\n",
       "    </tr>\n",
       "    <tr>\n",
       "      <th>2</th>\n",
       "      <td>4</td>\n",
       "      <td>754</td>\n",
       "      <td>0.207031</td>\n",
       "      <td>2</td>\n",
       "      <td>0.709091</td>\n",
       "      <td>0.014068</td>\n",
       "      <td>东南</td>\n",
       "      <td>NaN</td>\n",
       "      <td>3</td>\n",
       "      <td>2</td>\n",
       "      <td>2</td>\n",
       "      <td>NaN</td>\n",
       "      <td>10.0</td>\n",
       "      <td>9.0</td>\n",
       "      <td>4.0</td>\n",
       "      <td>74.0</td>\n",
       "      <td>0.400833</td>\n",
       "      <td>NaN</td>\n",
       "    </tr>\n",
       "    <tr>\n",
       "      <th>3</th>\n",
       "      <td>4</td>\n",
       "      <td>1285</td>\n",
       "      <td>0.011719</td>\n",
       "      <td>0</td>\n",
       "      <td>0.090909</td>\n",
       "      <td>0.008937</td>\n",
       "      <td>南</td>\n",
       "      <td>NaN</td>\n",
       "      <td>2</td>\n",
       "      <td>1</td>\n",
       "      <td>1</td>\n",
       "      <td>NaN</td>\n",
       "      <td>6.0</td>\n",
       "      <td>96.0</td>\n",
       "      <td>5.0</td>\n",
       "      <td>17.0</td>\n",
       "      <td>0.384167</td>\n",
       "      <td>NaN</td>\n",
       "    </tr>\n",
       "    <tr>\n",
       "      <th>4</th>\n",
       "      <td>4</td>\n",
       "      <td>4984</td>\n",
       "      <td>0.035156</td>\n",
       "      <td>1</td>\n",
       "      <td>0.218182</td>\n",
       "      <td>0.008606</td>\n",
       "      <td>东南</td>\n",
       "      <td>NaN</td>\n",
       "      <td>2</td>\n",
       "      <td>1</td>\n",
       "      <td>1</td>\n",
       "      <td>NaN</td>\n",
       "      <td>6.0</td>\n",
       "      <td>61.0</td>\n",
       "      <td>3.0</td>\n",
       "      <td>114.0</td>\n",
       "      <td>0.598333</td>\n",
       "      <td>NaN</td>\n",
       "    </tr>\n",
       "  </tbody>\n",
       "</table>\n",
       "</div>"
      ],
      "text/plain": [
       "   time  apartment_name  apartment_rent_num  floor  total_floor  house_area  \\\n",
       "0     4            6011            0.382812      1     0.600000    0.007117   \n",
       "1     4            1697            0.152344      1     0.472727    0.007448   \n",
       "2     4             754            0.207031      2     0.709091    0.014068   \n",
       "3     4            1285            0.011719      0     0.090909    0.008937   \n",
       "4     4            4984            0.035156      1     0.218182    0.008606   \n",
       "\n",
       "  house_towards  house_state  bedrooms  livingrooms  bathrooms  rent_method  \\\n",
       "0             东          3.0         2            1          1          1.0   \n",
       "1             东          NaN         2            1          1          NaN   \n",
       "2            东南          NaN         3            2          2          NaN   \n",
       "3             南          NaN         2            1          1          NaN   \n",
       "4            东南          NaN         2            1          1          NaN   \n",
       "\n",
       "   district  bs_region  sub_route  sub_stop  sub_distance  decoration_state  \n",
       "0      10.0        5.0        NaN       NaN           NaN               6.0  \n",
       "1       3.0        0.0        NaN       NaN           NaN               NaN  \n",
       "2      10.0        9.0        4.0      74.0      0.400833               NaN  \n",
       "3       6.0       96.0        5.0      17.0      0.384167               NaN  \n",
       "4       6.0       61.0        3.0     114.0      0.598333               NaN  "
      ]
     },
     "metadata": {},
     "output_type": "execute_result"
    }
   ],
   "source": [
    "#查看数据大概的情况\n",
    "print(X_train.head(5))\n",
    "X_train.sample(5)\n",
    "X_test.head(5)"
   ]
  },
  {
   "cell_type": "code",
   "execution_count": 4,
   "metadata": {
    "id": "B4BC4F4AC7E24677BE8B01A8F6056EA8",
    "scrolled": false
   },
   "outputs": [
    {
     "name": "stdout",
     "output_type": "stream",
     "text": [
      "(196539, 18)\n",
      "(56279, 18)\n"
     ]
    }
   ],
   "source": [
    "#查看数据的维度\n",
    "print(X_train.shape)\n",
    "print(X_test.shape)"
   ]
  },
  {
   "cell_type": "code",
   "execution_count": 5,
   "metadata": {
    "id": "643A9BA213A4469581285AEE4BF7C3C2",
    "scrolled": false
   },
   "outputs": [
    {
     "name": "stdout",
     "output_type": "stream",
     "text": [
      "(252818, 18)\n"
     ]
    }
   ],
   "source": [
    "#一般来讲把测试集和训练集合并进行预处理和探索型数据分析,后续可以直接用索引拆分\n",
    "frame = [X_train,X_test]\n",
    "data = pd.concat(frame,axis=0)\n",
    "print(data.shape)"
   ]
  },
  {
   "cell_type": "code",
   "execution_count": 6,
   "metadata": {
    "id": "DEB054A360EA441989F3143398ED5483",
    "scrolled": false
   },
   "outputs": [
    {
     "data": {
      "text/html": [
       "<div>\n",
       "<style scoped>\n",
       "    .dataframe tbody tr th:only-of-type {\n",
       "        vertical-align: middle;\n",
       "    }\n",
       "\n",
       "    .dataframe tbody tr th {\n",
       "        vertical-align: top;\n",
       "    }\n",
       "\n",
       "    .dataframe thead th {\n",
       "        text-align: right;\n",
       "    }\n",
       "</style>\n",
       "<table border=\"1\" class=\"dataframe\">\n",
       "  <thead>\n",
       "    <tr style=\"text-align: right;\">\n",
       "      <th></th>\n",
       "      <th>time</th>\n",
       "      <th>apartment_name</th>\n",
       "      <th>apartment_rent_num</th>\n",
       "      <th>floor</th>\n",
       "      <th>total_floor</th>\n",
       "      <th>house_area</th>\n",
       "      <th>house_state</th>\n",
       "      <th>bedrooms</th>\n",
       "      <th>livingrooms</th>\n",
       "      <th>bathrooms</th>\n",
       "      <th>rent_method</th>\n",
       "      <th>district</th>\n",
       "      <th>bs_region</th>\n",
       "      <th>sub_route</th>\n",
       "      <th>sub_stop</th>\n",
       "      <th>sub_distance</th>\n",
       "      <th>decoration_state</th>\n",
       "    </tr>\n",
       "  </thead>\n",
       "  <tbody>\n",
       "    <tr>\n",
       "      <th>count</th>\n",
       "      <td>252818.000000</td>\n",
       "      <td>252818.000000</td>\n",
       "      <td>251795.000000</td>\n",
       "      <td>252818.000000</td>\n",
       "      <td>252818.000000</td>\n",
       "      <td>252818.000000</td>\n",
       "      <td>24621.000000</td>\n",
       "      <td>252818.000000</td>\n",
       "      <td>252818.000000</td>\n",
       "      <td>252818.000000</td>\n",
       "      <td>29201.000000</td>\n",
       "      <td>252777.000000</td>\n",
       "      <td>252777.000000</td>\n",
       "      <td>118272.000000</td>\n",
       "      <td>118272.000000</td>\n",
       "      <td>118272.000000</td>\n",
       "      <td>22699.000000</td>\n",
       "    </tr>\n",
       "    <tr>\n",
       "      <th>mean</th>\n",
       "      <td>2.534792</td>\n",
       "      <td>3225.269419</td>\n",
       "      <td>0.123107</td>\n",
       "      <td>0.956854</td>\n",
       "      <td>0.410240</td>\n",
       "      <td>0.013162</td>\n",
       "      <td>2.727834</td>\n",
       "      <td>2.245422</td>\n",
       "      <td>1.297249</td>\n",
       "      <td>1.226020</td>\n",
       "      <td>0.893839</td>\n",
       "      <td>7.935825</td>\n",
       "      <td>68.189677</td>\n",
       "      <td>3.287346</td>\n",
       "      <td>57.308602</td>\n",
       "      <td>0.550350</td>\n",
       "      <td>3.595973</td>\n",
       "    </tr>\n",
       "    <tr>\n",
       "      <th>std</th>\n",
       "      <td>1.047004</td>\n",
       "      <td>2027.332289</td>\n",
       "      <td>0.132124</td>\n",
       "      <td>0.851100</td>\n",
       "      <td>0.182808</td>\n",
       "      <td>0.007700</td>\n",
       "      <td>0.665599</td>\n",
       "      <td>0.897825</td>\n",
       "      <td>0.611892</td>\n",
       "      <td>0.489941</td>\n",
       "      <td>0.308049</td>\n",
       "      <td>4.032691</td>\n",
       "      <td>43.666676</td>\n",
       "      <td>1.483973</td>\n",
       "      <td>35.226873</td>\n",
       "      <td>0.248115</td>\n",
       "      <td>1.995365</td>\n",
       "    </tr>\n",
       "    <tr>\n",
       "      <th>min</th>\n",
       "      <td>1.000000</td>\n",
       "      <td>0.000000</td>\n",
       "      <td>0.007812</td>\n",
       "      <td>0.000000</td>\n",
       "      <td>0.000000</td>\n",
       "      <td>0.000000</td>\n",
       "      <td>1.000000</td>\n",
       "      <td>0.000000</td>\n",
       "      <td>0.000000</td>\n",
       "      <td>0.000000</td>\n",
       "      <td>0.000000</td>\n",
       "      <td>0.000000</td>\n",
       "      <td>0.000000</td>\n",
       "      <td>1.000000</td>\n",
       "      <td>1.000000</td>\n",
       "      <td>0.001667</td>\n",
       "      <td>1.000000</td>\n",
       "    </tr>\n",
       "    <tr>\n",
       "      <th>25%</th>\n",
       "      <td>2.000000</td>\n",
       "      <td>1385.000000</td>\n",
       "      <td>0.039062</td>\n",
       "      <td>0.000000</td>\n",
       "      <td>0.290909</td>\n",
       "      <td>0.009268</td>\n",
       "      <td>3.000000</td>\n",
       "      <td>2.000000</td>\n",
       "      <td>1.000000</td>\n",
       "      <td>1.000000</td>\n",
       "      <td>1.000000</td>\n",
       "      <td>4.000000</td>\n",
       "      <td>33.000000</td>\n",
       "      <td>2.000000</td>\n",
       "      <td>23.000000</td>\n",
       "      <td>0.356667</td>\n",
       "      <td>2.000000</td>\n",
       "    </tr>\n",
       "    <tr>\n",
       "      <th>50%</th>\n",
       "      <td>3.000000</td>\n",
       "      <td>3086.000000</td>\n",
       "      <td>0.082031</td>\n",
       "      <td>1.000000</td>\n",
       "      <td>0.436364</td>\n",
       "      <td>0.012910</td>\n",
       "      <td>3.000000</td>\n",
       "      <td>2.000000</td>\n",
       "      <td>1.000000</td>\n",
       "      <td>1.000000</td>\n",
       "      <td>1.000000</td>\n",
       "      <td>9.000000</td>\n",
       "      <td>61.000000</td>\n",
       "      <td>4.000000</td>\n",
       "      <td>59.000000</td>\n",
       "      <td>0.554167</td>\n",
       "      <td>2.000000</td>\n",
       "    </tr>\n",
       "    <tr>\n",
       "      <th>75%</th>\n",
       "      <td>3.000000</td>\n",
       "      <td>5199.000000</td>\n",
       "      <td>0.156250</td>\n",
       "      <td>2.000000</td>\n",
       "      <td>0.563636</td>\n",
       "      <td>0.014992</td>\n",
       "      <td>3.000000</td>\n",
       "      <td>3.000000</td>\n",
       "      <td>2.000000</td>\n",
       "      <td>1.000000</td>\n",
       "      <td>1.000000</td>\n",
       "      <td>11.000000</td>\n",
       "      <td>104.000000</td>\n",
       "      <td>5.000000</td>\n",
       "      <td>87.000000</td>\n",
       "      <td>0.746667</td>\n",
       "      <td>6.000000</td>\n",
       "    </tr>\n",
       "    <tr>\n",
       "      <th>max</th>\n",
       "      <td>4.000000</td>\n",
       "      <td>6627.000000</td>\n",
       "      <td>1.000000</td>\n",
       "      <td>2.000000</td>\n",
       "      <td>1.000000</td>\n",
       "      <td>1.000000</td>\n",
       "      <td>3.000000</td>\n",
       "      <td>11.000000</td>\n",
       "      <td>8.000000</td>\n",
       "      <td>8.000000</td>\n",
       "      <td>1.000000</td>\n",
       "      <td>14.000000</td>\n",
       "      <td>152.000000</td>\n",
       "      <td>5.000000</td>\n",
       "      <td>119.000000</td>\n",
       "      <td>1.000000</td>\n",
       "      <td>6.000000</td>\n",
       "    </tr>\n",
       "  </tbody>\n",
       "</table>\n",
       "</div>"
      ],
      "text/plain": [
       "                time  apartment_name  apartment_rent_num          floor  \\\n",
       "count  252818.000000   252818.000000       251795.000000  252818.000000   \n",
       "mean        2.534792     3225.269419            0.123107       0.956854   \n",
       "std         1.047004     2027.332289            0.132124       0.851100   \n",
       "min         1.000000        0.000000            0.007812       0.000000   \n",
       "25%         2.000000     1385.000000            0.039062       0.000000   \n",
       "50%         3.000000     3086.000000            0.082031       1.000000   \n",
       "75%         3.000000     5199.000000            0.156250       2.000000   \n",
       "max         4.000000     6627.000000            1.000000       2.000000   \n",
       "\n",
       "         total_floor     house_area   house_state       bedrooms  \\\n",
       "count  252818.000000  252818.000000  24621.000000  252818.000000   \n",
       "mean        0.410240       0.013162      2.727834       2.245422   \n",
       "std         0.182808       0.007700      0.665599       0.897825   \n",
       "min         0.000000       0.000000      1.000000       0.000000   \n",
       "25%         0.290909       0.009268      3.000000       2.000000   \n",
       "50%         0.436364       0.012910      3.000000       2.000000   \n",
       "75%         0.563636       0.014992      3.000000       3.000000   \n",
       "max         1.000000       1.000000      3.000000      11.000000   \n",
       "\n",
       "         livingrooms      bathrooms   rent_method       district  \\\n",
       "count  252818.000000  252818.000000  29201.000000  252777.000000   \n",
       "mean        1.297249       1.226020      0.893839       7.935825   \n",
       "std         0.611892       0.489941      0.308049       4.032691   \n",
       "min         0.000000       0.000000      0.000000       0.000000   \n",
       "25%         1.000000       1.000000      1.000000       4.000000   \n",
       "50%         1.000000       1.000000      1.000000       9.000000   \n",
       "75%         2.000000       1.000000      1.000000      11.000000   \n",
       "max         8.000000       8.000000      1.000000      14.000000   \n",
       "\n",
       "           bs_region      sub_route       sub_stop   sub_distance  \\\n",
       "count  252777.000000  118272.000000  118272.000000  118272.000000   \n",
       "mean       68.189677       3.287346      57.308602       0.550350   \n",
       "std        43.666676       1.483973      35.226873       0.248115   \n",
       "min         0.000000       1.000000       1.000000       0.001667   \n",
       "25%        33.000000       2.000000      23.000000       0.356667   \n",
       "50%        61.000000       4.000000      59.000000       0.554167   \n",
       "75%       104.000000       5.000000      87.000000       0.746667   \n",
       "max       152.000000       5.000000     119.000000       1.000000   \n",
       "\n",
       "       decoration_state  \n",
       "count      22699.000000  \n",
       "mean           3.595973  \n",
       "std            1.995365  \n",
       "min            1.000000  \n",
       "25%            2.000000  \n",
       "50%            2.000000  \n",
       "75%            6.000000  \n",
       "max            6.000000  "
      ]
     },
     "metadata": {},
     "output_type": "execute_result"
    }
   ],
   "source": [
    "#数据的统计性分析\n",
    "data.describe()"
   ]
  },
  {
   "cell_type": "code",
   "execution_count": 7,
   "metadata": {
    "id": "86501F03794746379885C3CE276545FA",
    "scrolled": true
   },
   "outputs": [
    {
     "name": "stdout",
     "output_type": "stream",
     "text": [
      "训练集的缺失值:\n",
      " decoration_state      178047\n",
      "house_state           176401\n",
      "rent_method           172309\n",
      "sub_stop              104761\n",
      "sub_route             104761\n",
      "sub_distance          104761\n",
      "apartment_rent_num      1001\n",
      "bs_region                 31\n",
      "district                  31\n",
      "total_floor                0\n",
      "apartment_name             0\n",
      "floor                      0\n",
      "bedrooms                   0\n",
      "house_area                 0\n",
      "house_towards              0\n",
      "livingrooms                0\n",
      "bathrooms                  0\n",
      "time                       0\n",
      "dtype: int64\n",
      "测试集的缺失值:\n",
      " decoration_state      52072\n",
      "house_state           51796\n",
      "rent_method           51308\n",
      "sub_stop              29785\n",
      "sub_route             29785\n",
      "sub_distance          29785\n",
      "apartment_rent_num       22\n",
      "bs_region                10\n",
      "district                 10\n",
      "total_floor               0\n",
      "apartment_name            0\n",
      "floor                     0\n",
      "bedrooms                  0\n",
      "house_area                0\n",
      "house_towards             0\n",
      "livingrooms               0\n",
      "bathrooms                 0\n",
      "time                      0\n",
      "dtype: int64\n",
      "所有数据集的缺失值:\n",
      " decoration_state      230119\n",
      "house_state           228197\n",
      "rent_method           223617\n",
      "sub_stop              134546\n",
      "sub_route             134546\n",
      "sub_distance          134546\n",
      "apartment_rent_num      1023\n",
      "bs_region                 41\n",
      "district                  41\n",
      "total_floor                0\n",
      "apartment_name             0\n",
      "floor                      0\n",
      "bedrooms                   0\n",
      "house_area                 0\n",
      "house_towards              0\n",
      "livingrooms                0\n",
      "bathrooms                  0\n",
      "time                       0\n",
      "dtype: int64\n"
     ]
    }
   ],
   "source": [
    "#查看缺失值\n",
    "print('训练集的缺失值:\\n',X_train.isnull().sum().sort_values(ascending = False))\n",
    "print('测试集的缺失值:\\n',X_test.isnull().sum().sort_values(ascending = False))\n",
    "print('所有数据集的缺失值:\\n',data.isnull().sum().sort_values(ascending = False))"
   ]
  },
  {
   "cell_type": "markdown",
   "metadata": {
    "id": "DF67195789F040E5BABAD5A76B564750",
    "mdEditEnable": false
   },
   "source": [
    "# 特征工程"
   ]
  },
  {
   "cell_type": "markdown",
   "metadata": {
    "id": "B0142F677EA049648AF1111B488AC3C1",
    "mdEditEnable": false
   },
   "source": [
    "* 异常值处理"
   ]
  },
  {
   "cell_type": "code",
   "execution_count": null,
   "metadata": {
    "collapsed": true,
    "id": "0F02C0D6C960409D80354F17B4505563"
   },
   "outputs": [],
   "source": [
    "#train.drop(train[train['房屋面积']>0.2].index,inplace=True)\n",
    "#train.drop(train[(train['装修情况']==2)&(train['月租金']>80)].index,inplace=True)\n",
    "#train.drop(train[train['卧室数量']>10].index,inplace=True)\n",
    "#train.drop(train[train['厅的数量']>7].index,inplace=True)\n",
    "#train.drop(train[(train['卫的数量']>5)&(train['月租金']>60)].index,inplace=True)"
   ]
  },
  {
   "cell_type": "markdown",
   "metadata": {
    "id": "95C6E2B1879E4668819FAE53E3157190",
    "mdEditEnable": false
   },
   "source": [
    "* 缺失值处理"
   ]
  },
  {
   "cell_type": "code",
   "execution_count": 8,
   "metadata": {
    "id": "AB4D7F49783F4FC182000CAD98BD63B0",
    "scrolled": false
   },
   "outputs": [],
   "source": [
    "# 通过业务数据可以易得：同一个小区其住房出租数量、所在区、位置、最近的地铁站点和离地铁站的距离相同\n",
    "# 所以通过对小区名apartment_name分组，对同组有缺失值的特征进行补缺\n",
    "data['apartment_rent_num'] = data.groupby('apartment_name')[\n",
    "    'apartment_rent_num'].transform(lambda x: x.fillna(x.median()))\n",
    "data['district'] = data.groupby('apartment_name')[\n",
    "    'district'].transform(lambda x: x.fillna(x.median()))\n",
    "data['bs_region'] = data.groupby('apartment_name')[\n",
    "    'bs_region'].transform(lambda x: x.fillna(x.median()))\n",
    "data['sub_stop'] = data.groupby('apartment_name')[\n",
    "    'sub_stop'].transform(lambda x: x.fillna(x.median()))\n",
    "data['sub_distance'] = data.groupby('apartment_name')[\n",
    "    'sub_distance'].transform(lambda x: x.fillna(x.median()))\n",
    "data['sub_route'] = data.groupby('apartment_name')[\n",
    "    'sub_route'].transform(lambda x: x.fillna(x.median()))\n"
   ]
  },
  {
   "cell_type": "code",
   "execution_count": 9,
   "metadata": {
    "id": "86E79C6819C341E8AD27DD94B15F8AAF",
    "scrolled": false
   },
   "outputs": [
    {
     "name": "stdout",
     "output_type": "stream",
     "text": [
      "所有数据集的缺失值:\n",
      " decoration_state      230119\n",
      "house_state           228197\n",
      "rent_method           223617\n",
      "sub_stop              115341\n",
      "sub_route             115341\n",
      "sub_distance          115341\n",
      "bs_region                 41\n",
      "district                  41\n",
      "apartment_rent_num        10\n",
      "total_floor                0\n",
      "apartment_name             0\n",
      "floor                      0\n",
      "bedrooms                   0\n",
      "house_area                 0\n",
      "house_towards              0\n",
      "livingrooms                0\n",
      "bathrooms                  0\n",
      "time                       0\n",
      "dtype: int64\n"
     ]
    }
   ],
   "source": [
    "print('所有数据集的缺失值:\\n',data.isnull().sum().sort_values(ascending = False))"
   ]
  },
  {
   "cell_type": "code",
   "execution_count": 10,
   "metadata": {
    "id": "2551161F3F29497A984F678C1A431BD1",
    "scrolled": false
   },
   "outputs": [],
   "source": [
    "#可以看到商圈位置bs_region的缺失值数目很小，不妨用众数填充\n",
    "data['bs_region'].fillna(data['bs_region'].mode()[0],inplace=True)"
   ]
  },
  {
   "cell_type": "code",
   "execution_count": 11,
   "metadata": {
    "id": "A8434A9B0DA94B21B7CA03EA708D3949",
    "scrolled": false
   },
   "outputs": [],
   "source": [
    "data['apartment_rent_num'] = data.groupby(\n",
    "    'bs_region')['apartment_rent_num'].transform(lambda x: x.fillna(x.median()))\n",
    "data['district'] = data.groupby('bs_region')['district'].transform(\n",
    "    lambda x: x.fillna(x.median()))\n",
    "#data['位置'] = data.groupby('位置')['位置'].transform(lambda x: x.fillna(x.median()))\n",
    "data['sub_stop'] = data.groupby('bs_region')['sub_stop'].transform(\n",
    "    lambda x: x.fillna(x.median()))\n",
    "data['sub_distance'] = data.groupby(\n",
    "    'bs_region')['sub_distance'].transform(lambda x: x.fillna(x.median()))\n",
    "data['sub_route'] = data.groupby('bs_region')['sub_route'].transform(\n",
    "    lambda x: x.fillna(x.median()))"
   ]
  },
  {
   "cell_type": "code",
   "execution_count": 12,
   "metadata": {
    "id": "EE26AA202F0E42E7A0BE2378A37A05EC",
    "scrolled": false
   },
   "outputs": [
    {
     "name": "stdout",
     "output_type": "stream",
     "text": [
      "所有数据集的缺失值:\n",
      " decoration_state      230119\n",
      "house_state           228197\n",
      "rent_method           223617\n",
      "sub_stop               25117\n",
      "sub_route              25117\n",
      "sub_distance           25117\n",
      "house_area                 0\n",
      "apartment_name             0\n",
      "apartment_rent_num         0\n",
      "floor                      0\n",
      "total_floor                0\n",
      "bedrooms                   0\n",
      "house_towards              0\n",
      "livingrooms                0\n",
      "bathrooms                  0\n",
      "district                   0\n",
      "bs_region                  0\n",
      "time                       0\n",
      "dtype: int64\n"
     ]
    }
   ],
   "source": [
    "#可以看到sub_stop、sub_distance缺失值大大减少\n",
    "print('所有数据集的缺失值:\\n',data.isnull().sum().sort_values(ascending = False))"
   ]
  },
  {
   "cell_type": "markdown",
   "metadata": {
    "id": "DFF17D5C44FC41CC88DA7FC5D2E009CE",
    "mdEditEnable": false
   },
   "source": [
    "* 特征构造"
   ]
  },
  {
   "cell_type": "code",
   "execution_count": 13,
   "metadata": {
    "id": "7B695779065B47248AB413BFA392BF70",
    "scrolled": false
   },
   "outputs": [],
   "source": [
    "#构造特征：通过小区名构造每个小区的平均租金和每个商圈的平均租金，必然和预测值相关性很大，做相关性系数也可以得到验证\n",
    "xiaoqu = pd.DataFrame()\n",
    "\n",
    "train['monthly_rent'] = y_train \n",
    "for i in train['apartment_name'].unique():\n",
    "\n",
    "    tem = pd.DataFrame([train.loc[train['apartment_name'] == i]['monthly_rent'].mean(), i]).T\n",
    "\n",
    "    frame = [xiaoqu, tem]\n",
    "    xiaoqu = pd.concat(frame, axis=0)\n",
    "xiaoqu.index = xiaoqu.iloc[:, 1]\n",
    "for i in xiaoqu.iloc[:, 1]:\n",
    "    data.loc[data['apartment_name'] == i, 'ave'] = xiaoqu.loc[xiaoqu.index == i].iloc[0, 0]\n",
    "data['ave'] = data.groupby('bs_region')['ave'].transform(\n",
    "    lambda x: x.fillna(x.median()))"
   ]
  },
  {
   "cell_type": "code",
   "execution_count": 14,
   "metadata": {
    "id": "794146275A22445EB9F5D44441204F55",
    "scrolled": false
   },
   "outputs": [
    {
     "data": {
      "text/plain": [
       "(252818, 19)"
      ]
     },
     "metadata": {},
     "output_type": "execute_result"
    }
   ],
   "source": [
    "data.shape"
   ]
  },
  {
   "cell_type": "code",
   "execution_count": 16,
   "metadata": {
    "id": "5077E702C2E942549DEAC4F08DB42A09",
    "scrolled": false
   },
   "outputs": [],
   "source": [
    "#LabelEncoder是对不连续的数字或文本编号，通过这样对房屋朝向进行变化并离散化\n",
    "#连续变量放到基于树的分类器模型中容易产生过拟合（自查），所有尽量将类别变量放入LightGBM进行回归\n",
    "from sklearn.preprocessing import LabelEncoder\n",
    "le = LabelEncoder()\n",
    "le.fit(data['house_towards'])\n",
    "data['house_towards'] = le.transform(data['house_towards'])\n",
    "data['house_towards'] = data['house_towards'].astype('category')"
   ]
  },
  {
   "cell_type": "markdown",
   "metadata": {
    "id": "7A18C093DF0144D39328C974CADB40D3",
    "mdEditEnable": false
   },
   "source": [
    "使用类别特征的简单的序列对分类值进行表示后，进行模型训练时可能会产生一个问题就是特征的因为数字值得不同影响模型的训练效果，比如装修情况的1,2,3其实没有大小区分，在模型训练的过程中不同的值使得同一特征在样本中的权重可能发生变化，假如直接编码成1000，是不是比编码成1对模型的的影响更大。为了解决上述的问题，使训练过程中不受到因为分类值表示的问题对模型产生的负面影响，引入独热码对分类型的特征进行独热码编码。\n",
    "* **本应该用one-hot或者下面的哑变量dummies进行编码处理：**，基于模型，我们直接可以用astype进行处理\n",
    "\n",
    "#living_standard=pd.get_dummies(data['居住状态'])\n",
    "#forward = pd.get_dummies(data['房屋朝向'])\n",
    "#qu = pd.get_dummies(data['区'])\n",
    "#location = pd.get_dummies(data['位置'])\n",
    "#decor = pd.get_dummies(data['装修情况'])\n",
    "#ways = pd.get_dummies(data['出租方式'])\n",
    "#subway = pd.get_dummies(data['地铁站点'])\n",
    "\n",
    "#new_data = data.drop(['地铁站点','小区名','房屋朝向','区','位置','居住状态','装修情况','出租方式'],axis=1)\n",
    "#frame = [new_data,forward,qu,location,subway,living_standard,decor,ways]\n",
    "#new_data = pd.concat(frame,axis=1)"
   ]
  },
  {
   "cell_type": "code",
   "execution_count": 17,
   "metadata": {
    "id": "4EED8AF6421A41D89B146F8F34AFB3CF",
    "scrolled": false
   },
   "outputs": [],
   "source": [
    "#我们一开始就选定使用LightGBM来进行回归，而LightGBM可以自动识别类别变量，即类别，进行自带的编码，比独热编码更有效（自查）\n",
    "data['district'] = data['district'].astype('category')\n",
    "data['bs_region'] = data['bs_region'].astype('category')\n",
    "data['decoration_state'] = data['decoration_state'].astype('category')\n",
    "data['rent_method'] = data['rent_method'].astype('category')\n",
    "data['sub_stop'] = data['sub_stop'].astype('category')\n",
    "data['house_towards'] = data['house_towards'].astype('category')\n",
    "data['floor'] = data['floor'].astype('category')\n",
    "data['time'] = data['time'].astype('category')\n",
    "data['apartment_name'] = data['apartment_name'].astype('category')"
   ]
  },
  {
   "cell_type": "code",
   "execution_count": 20,
   "metadata": {
    "id": "BC1456D6FB054C3D8500B870C8357ACF",
    "scrolled": false
   },
   "outputs": [
    {
     "data": {
      "text/plain": [
       "(196539, 19)"
      ]
     },
     "metadata": {},
     "output_type": "execute_result"
    }
   ],
   "source": [
    "X_train.shape"
   ]
  },
  {
   "cell_type": "code",
   "execution_count": 22,
   "metadata": {
    "id": "6E52657A2CC94A46890BD344A7432933",
    "scrolled": false
   },
   "outputs": [],
   "source": [
    "X_train = data[:X_train.shape[0]]\n",
    "X_test = data[X_train.shape[0]:]"
   ]
  },
  {
   "cell_type": "code",
   "execution_count": null,
   "metadata": {
    "collapsed": true,
    "id": "40B73388746947E5835131D57EF760EA"
   },
   "outputs": [],
   "source": [
    "123455"
   ]
  }
 ],
 "metadata": {
  "kernelspec": {
   "display_name": "Python 3",
   "language": "python",
   "name": "python3"
  },
  "language_info": {
   "codemirror_mode": {
    "name": "ipython",
    "version": 3
   },
   "file_extension": ".py",
   "mimetype": "text/x-python",
   "name": "python",
   "nbconvert_exporter": "python",
   "pygments_lexer": "ipython3",
   "version": "3.5.4"
  }
 },
 "nbformat": 4,
 "nbformat_minor": 1
}
